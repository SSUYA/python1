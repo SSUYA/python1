{
 "cells": [
  {
   "cell_type": "markdown",
   "metadata": {},
   "source": [
    "# 函数\n",
    "\n",
    "- 函数可以用来定义可重复代码，组织和简化\n",
    "- 一般来说一个函数在实际开发中为一个小功能\n",
    "- 一个类为一个大功能\n",
    "- 同样函数的长度不要超过一屏"
   ]
  },
  {
   "cell_type": "markdown",
   "metadata": {},
   "source": [
    "Python中的所有函数实际上都是有返回值(return None),\n",
    "\n",
    "如果你没有设置return,那么Python将不显示None.\n",
    "\n",
    "如果你设置return,那么将返回出return这个值."
   ]
  },
  {
   "cell_type": "code",
   "execution_count": 2,
   "metadata": {},
   "outputs": [],
   "source": [
    "def suya():\n",
    "    print('suyanb')"
   ]
  },
  {
   "cell_type": "code",
   "execution_count": 3,
   "metadata": {},
   "outputs": [
    {
     "name": "stdout",
     "output_type": "stream",
     "text": [
      "suyanb\n"
     ]
    }
   ],
   "source": [
    "suya()"
   ]
  },
  {
   "cell_type": "code",
   "execution_count": 4,
   "metadata": {},
   "outputs": [],
   "source": [
    "def suya(name):\n",
    "    print(name,'帅逼')"
   ]
  },
  {
   "cell_type": "code",
   "execution_count": 5,
   "metadata": {},
   "outputs": [
    {
     "name": "stdout",
     "output_type": "stream",
     "text": [
      "wyx 帅逼\n"
     ]
    }
   ],
   "source": [
    "suya('wyx')"
   ]
  },
  {
   "cell_type": "code",
   "execution_count": 6,
   "metadata": {},
   "outputs": [],
   "source": [
    "def panduan(number):\n",
    "    if number%2==0:\n",
    "        print('o')\n",
    "    else:\n",
    "        print('s')"
   ]
  },
  {
   "cell_type": "code",
   "execution_count": 7,
   "metadata": {},
   "outputs": [
    {
     "name": "stdout",
     "output_type": "stream",
     "text": [
      "s\n"
     ]
    }
   ],
   "source": [
    "panduan(number=1)"
   ]
  },
  {
   "cell_type": "code",
   "execution_count": 9,
   "metadata": {},
   "outputs": [],
   "source": [
    "def suya(name1,name2):\n",
    "    print(name1,'帅逼')\n",
    "    print(name2,'衰逼')"
   ]
  },
  {
   "cell_type": "code",
   "execution_count": 10,
   "metadata": {},
   "outputs": [
    {
     "name": "stdout",
     "output_type": "stream",
     "text": [
      "suya 帅逼\n",
      "dacuo 衰逼\n"
     ]
    }
   ],
   "source": [
    "suya(name1='suya',name2='dacuo')"
   ]
  },
  {
   "cell_type": "markdown",
   "metadata": {},
   "source": [
    "## 定义一个函数\n",
    "\n",
    "def function_name(list of parameters):\n",
    "    \n",
    "    do something\n",
    "![](../Photo/69.png)\n",
    "- 以前使用的random 或者range 或者print.. 其实都是函数或者类"
   ]
  },
  {
   "cell_type": "code",
   "execution_count": null,
   "metadata": {},
   "outputs": [],
   "source": []
  },
  {
   "cell_type": "code",
   "execution_count": 31,
   "metadata": {},
   "outputs": [],
   "source": [
    "def suya(num1,num2,num3):\n",
    "    if num1>num2>num3 or num1>num3>num2:\n",
    "        result=num1\n",
    "    if num2>num3>num1 or num2>num1>num3:\n",
    "        result=num2\n",
    "    if num3>num2>num1 or num3>num1>num2:\n",
    "        result=num3\n",
    "    return result"
   ]
  },
  {
   "cell_type": "code",
   "execution_count": 36,
   "metadata": {},
   "outputs": [
    {
     "data": {
      "text/plain": [
       "34567890"
      ]
     },
     "execution_count": 36,
     "metadata": {},
     "output_type": "execute_result"
    }
   ],
   "source": [
    "suya(num1=34567890,num2=98765,num3=6899)"
   ]
  },
  {
   "cell_type": "code",
   "execution_count": 38,
   "metadata": {},
   "outputs": [],
   "source": [
    "import random"
   ]
  },
  {
   "cell_type": "code",
   "execution_count": 39,
   "metadata": {},
   "outputs": [
    {
     "ename": "TypeError",
     "evalue": "random() takes no arguments (2 given)",
     "output_type": "error",
     "traceback": [
      "\u001b[1;31m---------------------------------------------------------------------------\u001b[0m",
      "\u001b[1;31mTypeError\u001b[0m                                 Traceback (most recent call last)",
      "\u001b[1;32m<ipython-input-39-a1b47c8f0c2b>\u001b[0m in \u001b[0;36m<module>\u001b[1;34m\u001b[0m\n\u001b[1;32m----> 1\u001b[1;33m \u001b[0mx\u001b[0m\u001b[1;33m=\u001b[0m\u001b[0mrandom\u001b[0m\u001b[1;33m.\u001b[0m\u001b[0mrandom\u001b[0m\u001b[1;33m(\u001b[0m\u001b[1;36m0\u001b[0m\u001b[1;33m,\u001b[0m\u001b[1;36m5\u001b[0m\u001b[1;33m)\u001b[0m\u001b[1;33m\u001b[0m\u001b[1;33m\u001b[0m\u001b[0m\n\u001b[0m\u001b[0;32m      2\u001b[0m \u001b[1;32mwhile\u001b[0m \u001b[1;36m1\u001b[0m\u001b[1;33m:\u001b[0m\u001b[1;33m\u001b[0m\u001b[1;33m\u001b[0m\u001b[0m\n\u001b[0;32m      3\u001b[0m     \u001b[0mn\u001b[0m\u001b[1;33m=\u001b[0m\u001b[0meval\u001b[0m\u001b[1;33m(\u001b[0m\u001b[0minput\u001b[0m\u001b[1;33m(\u001b[0m\u001b[1;34m'输入值'\u001b[0m\u001b[1;33m)\u001b[0m\u001b[1;33m)\u001b[0m\u001b[1;33m\u001b[0m\u001b[1;33m\u001b[0m\u001b[0m\n\u001b[0;32m      4\u001b[0m     \u001b[1;32mif\u001b[0m \u001b[0mx\u001b[0m\u001b[1;33m==\u001b[0m\u001b[0mn\u001b[0m\u001b[1;33m:\u001b[0m\u001b[1;33m\u001b[0m\u001b[1;33m\u001b[0m\u001b[0m\n\u001b[0;32m      5\u001b[0m         \u001b[0mprint\u001b[0m\u001b[1;33m(\u001b[0m\u001b[1;34m'smart'\u001b[0m\u001b[1;33m)\u001b[0m\u001b[1;33m\u001b[0m\u001b[1;33m\u001b[0m\u001b[0m\n",
      "\u001b[1;31mTypeError\u001b[0m: random() takes no arguments (2 given)"
     ]
    }
   ],
   "source": [
    "def x\n",
    "x=random.random(0,5)\n",
    "while 1:\n",
    "    n=eval(input('输入值'))\n",
    "    if x==n:\n",
    "        print('smart')\n",
    "        break\n",
    "    elif x<n:\n",
    "        print('太小')\n",
    "    elif x<n:\n",
    "        print('太大')\n",
    "    \n",
    "    "
   ]
  },
  {
   "cell_type": "markdown",
   "metadata": {},
   "source": [
    "函数的参数如果有默认值的情况,当你调用该函数的时候:\n",
    "可以不给予参数值,那么就会走该参数的默认值\n",
    "否则的话,就走你给予的参数值."
   ]
  },
  {
   "cell_type": "markdown",
   "metadata": {},
   "source": [
    "## 调用一个函数\n",
    "- functionName()\n",
    "- \"()\" 就代表调用"
   ]
  },
  {
   "cell_type": "code",
   "execution_count": 1,
   "metadata": {},
   "outputs": [],
   "source": [
    "def s():\n",
    "    print('suyanb')"
   ]
  },
  {
   "cell_type": "code",
   "execution_count": 2,
   "metadata": {},
   "outputs": [],
   "source": [
    "def y():\n",
    "    s()"
   ]
  },
  {
   "cell_type": "code",
   "execution_count": 3,
   "metadata": {},
   "outputs": [
    {
     "name": "stdout",
     "output_type": "stream",
     "text": [
      "suyanb\n"
     ]
    }
   ],
   "source": [
    "y()"
   ]
  },
  {
   "cell_type": "code",
   "execution_count": 5,
   "metadata": {},
   "outputs": [],
   "source": [
    "def u(a):\n",
    "    a()\n",
    "    "
   ]
  },
  {
   "cell_type": "code",
   "execution_count": 6,
   "metadata": {},
   "outputs": [
    {
     "name": "stdout",
     "output_type": "stream",
     "text": [
      "suyanb\n"
     ]
    }
   ],
   "source": [
    "u(y)"
   ]
  },
  {
   "cell_type": "markdown",
   "metadata": {},
   "source": [
    "![](../Photo/70.png)"
   ]
  },
  {
   "cell_type": "markdown",
   "metadata": {},
   "source": [
    "## 带返回值和不带返回值的函数\n",
    "- return 返回的内容\n",
    "- return 返回多个值\n",
    "- 一般情况下，在多个函数协同完成一个功能的时候，那么将会有返回值"
   ]
  },
  {
   "cell_type": "markdown",
   "metadata": {},
   "source": [
    "![](../Photo/71.png)\n",
    "\n",
    "- 当然也可以自定义返回None"
   ]
  },
  {
   "cell_type": "markdown",
   "metadata": {},
   "source": [
    "## EP：\n",
    "![](../Photo/72.png)"
   ]
  },
  {
   "cell_type": "markdown",
   "metadata": {},
   "source": [
    "## 类型和关键字参数\n",
    "- 普通参数\n",
    "- 多个参数\n",
    "- 默认值参数\n",
    "- 不定长参数"
   ]
  },
  {
   "cell_type": "markdown",
   "metadata": {},
   "source": [
    "## 普通参数"
   ]
  },
  {
   "cell_type": "markdown",
   "metadata": {},
   "source": [
    "## 多个参数"
   ]
  },
  {
   "cell_type": "markdown",
   "metadata": {},
   "source": [
    "## 默认值参数"
   ]
  },
  {
   "cell_type": "markdown",
   "metadata": {},
   "source": [
    "## 强制命名"
   ]
  },
  {
   "cell_type": "code",
   "execution_count": 16,
   "metadata": {},
   "outputs": [],
   "source": [
    "def wangzhe(*,name,name2,name3='nb'):\n",
    "    print('king',name)"
   ]
  },
  {
   "cell_type": "code",
   "execution_count": 17,
   "metadata": {},
   "outputs": [
    {
     "name": "stdout",
     "output_type": "stream",
     "text": [
      "king suya\n"
     ]
    }
   ],
   "source": [
    "wangzhe(name='suya',name2='wej')"
   ]
  },
  {
   "cell_type": "code",
   "execution_count": null,
   "metadata": {},
   "outputs": [],
   "source": []
  },
  {
   "cell_type": "markdown",
   "metadata": {},
   "source": [
    "## 不定长参数\n",
    "- \\*args\n",
    "> - 不定长，来多少装多少，不装也是可以的\n",
    "  - 返回的数据类型是元组\n",
    "  - args 名字是可以修改的，只是我们约定俗成的是args\n",
    "- \\**kwargs \n",
    "> - 返回的字典\n",
    "  - 输入的一定要是表达式（键值对）\n",
    "- name,\\*args,name2,\\**kwargs  使用参数名"
   ]
  },
  {
   "cell_type": "code",
   "execution_count": 18,
   "metadata": {},
   "outputs": [],
   "source": [
    "def suya(*args):\n",
    "    print(*args)"
   ]
  },
  {
   "cell_type": "code",
   "execution_count": 19,
   "metadata": {},
   "outputs": [
    {
     "name": "stdout",
     "output_type": "stream",
     "text": [
      "1 2 3 56 7 85 8765\n"
     ]
    }
   ],
   "source": [
    "suya(1,2,3,56,7,85,8765)"
   ]
  },
  {
   "cell_type": "code",
   "execution_count": 26,
   "metadata": {},
   "outputs": [],
   "source": [
    "def max_(*args):\n",
    "    res =0\n",
    "    for i in args:\n",
    "        if i>res:\n",
    "            res=i\n",
    "    return res"
   ]
  },
  {
   "cell_type": "code",
   "execution_count": 27,
   "metadata": {},
   "outputs": [
    {
     "data": {
      "text/plain": [
       "99"
      ]
     },
     "execution_count": 27,
     "metadata": {},
     "output_type": "execute_result"
    }
   ],
   "source": [
    "max_(1,99,4,5)"
   ]
  },
  {
   "cell_type": "code",
   "execution_count": 55,
   "metadata": {},
   "outputs": [],
   "source": [
    "def sum_(*args):\n",
    "    res=0\n",
    "    count=1\n",
    "    for i in args:\n",
    "        res+=i\n",
    "        count+=1\n",
    "    mean=res/(count-1)\n",
    "    return res,mean"
   ]
  },
  {
   "cell_type": "code",
   "execution_count": 56,
   "metadata": {},
   "outputs": [],
   "source": [
    "sum_=(1,3,2,2,2,11)"
   ]
  },
  {
   "cell_type": "code",
   "execution_count": 48,
   "metadata": {},
   "outputs": [],
   "source": [
    "def yyy(**kwargs):\n",
    "    print(kwargs)"
   ]
  },
  {
   "cell_type": "code",
   "execution_count": 49,
   "metadata": {},
   "outputs": [
    {
     "name": "stdout",
     "output_type": "stream",
     "text": [
      "{'a': 1, 'b': 2, 'c': 9}\n"
     ]
    }
   ],
   "source": [
    "yyy(a=1,b=2,c=9)"
   ]
  },
  {
   "cell_type": "markdown",
   "metadata": {},
   "source": [
    "## 变量的作用域\n",
    "- 局部变量 local\n",
    "- 全局变量 global\n",
    "- globals 函数返回一个全局变量的字典，包括所有导入的变量\n",
    "- locals() 函数会以字典类型返回当前位置的全部局部变量。"
   ]
  },
  {
   "cell_type": "code",
   "execution_count": 53,
   "metadata": {},
   "outputs": [],
   "source": [
    "r=1000\n",
    "def rr():\n",
    "    global r#引用外面的变量 用global,多个用，隔开\n",
    "    r+=100\n",
    "    print(r)"
   ]
  },
  {
   "cell_type": "code",
   "execution_count": 54,
   "metadata": {},
   "outputs": [
    {
     "name": "stdout",
     "output_type": "stream",
     "text": [
      "1100\n"
     ]
    }
   ],
   "source": [
    "rr()"
   ]
  },
  {
   "cell_type": "code",
   "execution_count": 52,
   "metadata": {},
   "outputs": [
    {
     "data": {
      "text/plain": [
       "{'__name__': '__main__',\n",
       " '__doc__': 'Automatically created module for IPython interactive environment',\n",
       " '__package__': None,\n",
       " '__loader__': None,\n",
       " '__spec__': None,\n",
       " '__builtin__': <module 'builtins' (built-in)>,\n",
       " '__builtins__': <module 'builtins' (built-in)>,\n",
       " '_ih': ['',\n",
       "  \"def s():\\n    print('suyanb')\",\n",
       "  'def y():\\n    s()',\n",
       "  'y()',\n",
       "  'u(y)',\n",
       "  'def u(a):\\n    a()\\n    ',\n",
       "  'u(y)',\n",
       "  \"def wangzhe(name):\\n    print('hello',name)\",\n",
       "  \"wangzhe(name='suya')\",\n",
       "  \"def wangzhe(name):\\n    print('wangzhe',name)\",\n",
       "  \"wangzhe(name='suya')\",\n",
       "  \"def wangzhe(name):\\n    print('king',name)\",\n",
       "  \"wangzhe(name='suya')\",\n",
       "  \"def wangzhe(*,name):\\n    print('king',name)\",\n",
       "  \"wangzhe(name='suya')\",\n",
       "  \"def wangzhe(*,name,name2,name3='nb'):\\n    print('king',name)\",\n",
       "  \"def wangzhe(*,name,name2,name3='nb'):\\n    print('king',name)\",\n",
       "  \"wangzhe(name='suya',name2='wej')\",\n",
       "  'def suya(*args):\\n    print(*args)',\n",
       "  'suya(1,2,3,56,7,85,8765)',\n",
       "  'def max_(*args):\\n    return max(args)',\n",
       "  'def max_(*args):\\n    print(args)\\n    for i in args:\\n        print(i)',\n",
       "  'max_(1,2,4,5)',\n",
       "  'max_(1,99,4,5)',\n",
       "  'def max_(*args):\\n    res =0\\n    for i in args:\\n        if i>res:\\n            res=1\\n    return res',\n",
       "  'max_(1,99,4,5)',\n",
       "  'def max_(*args):\\n    res =0\\n    for i in args:\\n        if i>res:\\n            res=i\\n    return res',\n",
       "  'max_(1,99,4,5)',\n",
       "  'def sum_(*args):\\n    res=0\\n    for i in args:\\n        res+=i\\n    return res',\n",
       "  'def sum_(*args):\\n    res=0\\n    count=1\\n    for i in args:\\n        res+=i\\n        count+=1\\n    mean=res/(count-1)\\n    return res,mean',\n",
       "  'sum_(1,3,2,2,2,11)',\n",
       "  'def sum_(*args):\\n    res=0\\n    count=1\\n    for i in args:\\n        res+=i\\n        count+=1\\n    mean=res/(count-1)\\n    return res,mean',\n",
       "  'sum,mean=sun_(1,3,2,2,2,11)',\n",
       "  'def sum_(*args):\\n    res=0\\n    count=1\\n    for i in args:\\n        res+=i\\n        count+=1\\n    mean=res/(count-1)\\n    return res,mean',\n",
       "  'SUM,MEAN=sun_(1,3,2,2,2,11)',\n",
       "  'SUM,MEAN=sum_(1,3,2,2,2,11)',\n",
       "  'def sum_(*args):\\n    res=0\\n    count=1\\n    for i in args:\\n        res+=i\\n        count+=1\\n    mean=res/(count-1)\\n    return res,mean',\n",
       "  'SUM,MEAN=sum_(1,3,2,2,2,11)',\n",
       "  'def sum_(*args):\\n    res=0\\n    count=1\\n    for i in args:\\n        res+=i\\n        count+=1\\n    mean=res/(count-1)\\n    return res,mean',\n",
       "  'SUM,MEAN=sum_(1,3,2,2,2,11)',\n",
       "  'def sum_(*args):\\n    res=0\\n    count=1\\n    for i in args:\\n        res+=i\\n        count+=1\\n    mean=res/(count-1)\\n    return res,mean',\n",
       "  'sum_=(1,3,2,2,2,11)',\n",
       "  'def sum_(*args):\\n    res=0\\n    count=1\\n    for i in args:\\n        res+=i\\n        count+=1\\n    mean=res/(count-1)\\n    return res,mean',\n",
       "  'sum_=(1,3,2,2,2,11)',\n",
       "  'def sum_(*args):\\n    res=0\\n    count=1\\n    for i in args:\\n        res+=i\\n        count+=1\\n    mean=res/(count-1)\\n    return res,mean',\n",
       "  'sum_=(1,3,2,2,2,11)',\n",
       "  'def yyy(*)',\n",
       "  'def yyy(**kwargs):\\n    print(kwargs)',\n",
       "  'def yyy(**kwargs):\\n    print(kwargs)',\n",
       "  'yyy(a=1,b=2,c=9)',\n",
       "  'r=10000\\ndef rr():\\n    global r\\n    r+=100\\n    print(r)',\n",
       "  'rr()',\n",
       "  'globals()'],\n",
       " '_oh': {25: 1, 27: 99, 30: (21, 3.5)},\n",
       " '_dh': ['C:\\\\Users\\\\00\\\\Desktop\\\\新建文件夹\\\\新建文件夹'],\n",
       " 'In': ['',\n",
       "  \"def s():\\n    print('suyanb')\",\n",
       "  'def y():\\n    s()',\n",
       "  'y()',\n",
       "  'u(y)',\n",
       "  'def u(a):\\n    a()\\n    ',\n",
       "  'u(y)',\n",
       "  \"def wangzhe(name):\\n    print('hello',name)\",\n",
       "  \"wangzhe(name='suya')\",\n",
       "  \"def wangzhe(name):\\n    print('wangzhe',name)\",\n",
       "  \"wangzhe(name='suya')\",\n",
       "  \"def wangzhe(name):\\n    print('king',name)\",\n",
       "  \"wangzhe(name='suya')\",\n",
       "  \"def wangzhe(*,name):\\n    print('king',name)\",\n",
       "  \"wangzhe(name='suya')\",\n",
       "  \"def wangzhe(*,name,name2,name3='nb'):\\n    print('king',name)\",\n",
       "  \"def wangzhe(*,name,name2,name3='nb'):\\n    print('king',name)\",\n",
       "  \"wangzhe(name='suya',name2='wej')\",\n",
       "  'def suya(*args):\\n    print(*args)',\n",
       "  'suya(1,2,3,56,7,85,8765)',\n",
       "  'def max_(*args):\\n    return max(args)',\n",
       "  'def max_(*args):\\n    print(args)\\n    for i in args:\\n        print(i)',\n",
       "  'max_(1,2,4,5)',\n",
       "  'max_(1,99,4,5)',\n",
       "  'def max_(*args):\\n    res =0\\n    for i in args:\\n        if i>res:\\n            res=1\\n    return res',\n",
       "  'max_(1,99,4,5)',\n",
       "  'def max_(*args):\\n    res =0\\n    for i in args:\\n        if i>res:\\n            res=i\\n    return res',\n",
       "  'max_(1,99,4,5)',\n",
       "  'def sum_(*args):\\n    res=0\\n    for i in args:\\n        res+=i\\n    return res',\n",
       "  'def sum_(*args):\\n    res=0\\n    count=1\\n    for i in args:\\n        res+=i\\n        count+=1\\n    mean=res/(count-1)\\n    return res,mean',\n",
       "  'sum_(1,3,2,2,2,11)',\n",
       "  'def sum_(*args):\\n    res=0\\n    count=1\\n    for i in args:\\n        res+=i\\n        count+=1\\n    mean=res/(count-1)\\n    return res,mean',\n",
       "  'sum,mean=sun_(1,3,2,2,2,11)',\n",
       "  'def sum_(*args):\\n    res=0\\n    count=1\\n    for i in args:\\n        res+=i\\n        count+=1\\n    mean=res/(count-1)\\n    return res,mean',\n",
       "  'SUM,MEAN=sun_(1,3,2,2,2,11)',\n",
       "  'SUM,MEAN=sum_(1,3,2,2,2,11)',\n",
       "  'def sum_(*args):\\n    res=0\\n    count=1\\n    for i in args:\\n        res+=i\\n        count+=1\\n    mean=res/(count-1)\\n    return res,mean',\n",
       "  'SUM,MEAN=sum_(1,3,2,2,2,11)',\n",
       "  'def sum_(*args):\\n    res=0\\n    count=1\\n    for i in args:\\n        res+=i\\n        count+=1\\n    mean=res/(count-1)\\n    return res,mean',\n",
       "  'SUM,MEAN=sum_(1,3,2,2,2,11)',\n",
       "  'def sum_(*args):\\n    res=0\\n    count=1\\n    for i in args:\\n        res+=i\\n        count+=1\\n    mean=res/(count-1)\\n    return res,mean',\n",
       "  'sum_=(1,3,2,2,2,11)',\n",
       "  'def sum_(*args):\\n    res=0\\n    count=1\\n    for i in args:\\n        res+=i\\n        count+=1\\n    mean=res/(count-1)\\n    return res,mean',\n",
       "  'sum_=(1,3,2,2,2,11)',\n",
       "  'def sum_(*args):\\n    res=0\\n    count=1\\n    for i in args:\\n        res+=i\\n        count+=1\\n    mean=res/(count-1)\\n    return res,mean',\n",
       "  'sum_=(1,3,2,2,2,11)',\n",
       "  'def yyy(*)',\n",
       "  'def yyy(**kwargs):\\n    print(kwargs)',\n",
       "  'def yyy(**kwargs):\\n    print(kwargs)',\n",
       "  'yyy(a=1,b=2,c=9)',\n",
       "  'r=10000\\ndef rr():\\n    global r\\n    r+=100\\n    print(r)',\n",
       "  'rr()',\n",
       "  'globals()'],\n",
       " 'Out': {25: 1, 27: 99, 30: (21, 3.5)},\n",
       " 'get_ipython': <bound method InteractiveShell.get_ipython of <ipykernel.zmqshell.ZMQInteractiveShell object at 0x000002071E6B5C18>>,\n",
       " 'exit': <IPython.core.autocall.ZMQExitAutocall at 0x2071e7259e8>,\n",
       " 'quit': <IPython.core.autocall.ZMQExitAutocall at 0x2071e7259e8>,\n",
       " '_': (21, 3.5),\n",
       " '__': 99,\n",
       " '___': 1,\n",
       " '_i': 'rr()',\n",
       " '_ii': 'r=10000\\ndef rr():\\n    global r\\n    r+=100\\n    print(r)',\n",
       " '_iii': 'yyy(a=1,b=2,c=9)',\n",
       " '_i1': \"def s():\\n    print('suyanb')\",\n",
       " 's': <function __main__.s()>,\n",
       " '_i2': 'def y():\\n    s()',\n",
       " 'y': <function __main__.y()>,\n",
       " '_i3': 'y()',\n",
       " '_i4': 'u(y)',\n",
       " '_i5': 'def u(a):\\n    a()\\n    ',\n",
       " 'u': <function __main__.u(a)>,\n",
       " '_i6': 'u(y)',\n",
       " '_i7': \"def wangzhe(name):\\n    print('hello',name)\",\n",
       " 'wangzhe': <function __main__.wangzhe(*, name, name2, name3='nb')>,\n",
       " '_i8': \"wangzhe(name='suya')\",\n",
       " '_i9': \"def wangzhe(name):\\n    print('wangzhe',name)\",\n",
       " '_i10': \"wangzhe(name='suya')\",\n",
       " '_i11': \"def wangzhe(name):\\n    print('king',name)\",\n",
       " '_i12': \"wangzhe(name='suya')\",\n",
       " '_i13': \"def wangzhe(*,name):\\n    print('king',name)\",\n",
       " '_i14': \"wangzhe(name='suya')\",\n",
       " '_i15': \"def wangzhe(*,name,name2,name3='nb'):\\n    print('king',name)\",\n",
       " '_i16': \"def wangzhe(*,name,name2,name3='nb'):\\n    print('king',name)\",\n",
       " '_i17': \"wangzhe(name='suya',name2='wej')\",\n",
       " '_i18': 'def suya(*args):\\n    print(*args)',\n",
       " 'suya': <function __main__.suya(*args)>,\n",
       " '_i19': 'suya(1,2,3,56,7,85,8765)',\n",
       " '_i20': 'def max_(*args):\\n    return max(args)',\n",
       " 'max_': <function __main__.max_(*args)>,\n",
       " '_i21': 'def max_(*args):\\n    print(args)\\n    for i in args:\\n        print(i)',\n",
       " '_i22': 'max_(1,2,4,5)',\n",
       " '_i23': 'max_(1,99,4,5)',\n",
       " '_i24': 'def max_(*args):\\n    res =0\\n    for i in args:\\n        if i>res:\\n            res=1\\n    return res',\n",
       " '_i25': 'max_(1,99,4,5)',\n",
       " '_25': 1,\n",
       " '_i26': 'def max_(*args):\\n    res =0\\n    for i in args:\\n        if i>res:\\n            res=i\\n    return res',\n",
       " '_i27': 'max_(1,99,4,5)',\n",
       " '_27': 99,\n",
       " '_i28': 'def sum_(*args):\\n    res=0\\n    for i in args:\\n        res+=i\\n    return res',\n",
       " 'sum_': (1, 3, 2, 2, 2, 11),\n",
       " '_i29': 'def sum_(*args):\\n    res=0\\n    count=1\\n    for i in args:\\n        res+=i\\n        count+=1\\n    mean=res/(count-1)\\n    return res,mean',\n",
       " '_i30': 'sum_(1,3,2,2,2,11)',\n",
       " '_30': (21, 3.5),\n",
       " '_i31': 'def sum_(*args):\\n    res=0\\n    count=1\\n    for i in args:\\n        res+=i\\n        count+=1\\n    mean=res/(count-1)\\n    return res,mean',\n",
       " '_i32': 'sum,mean=sun_(1,3,2,2,2,11)',\n",
       " '_i33': 'def sum_(*args):\\n    res=0\\n    count=1\\n    for i in args:\\n        res+=i\\n        count+=1\\n    mean=res/(count-1)\\n    return res,mean',\n",
       " '_i34': 'SUM,MEAN=sun_(1,3,2,2,2,11)',\n",
       " '_i35': 'SUM,MEAN=sum_(1,3,2,2,2,11)',\n",
       " 'SUM': 21,\n",
       " 'MEAN': 3.5,\n",
       " '_i36': 'def sum_(*args):\\n    res=0\\n    count=1\\n    for i in args:\\n        res+=i\\n        count+=1\\n    mean=res/(count-1)\\n    return res,mean',\n",
       " '_i37': 'SUM,MEAN=sum_(1,3,2,2,2,11)',\n",
       " '_i38': 'def sum_(*args):\\n    res=0\\n    count=1\\n    for i in args:\\n        res+=i\\n        count+=1\\n    mean=res/(count-1)\\n    return res,mean',\n",
       " '_i39': 'SUM,MEAN=sum_(1,3,2,2,2,11)',\n",
       " '_i40': 'def sum_(*args):\\n    res=0\\n    count=1\\n    for i in args:\\n        res+=i\\n        count+=1\\n    mean=res/(count-1)\\n    return res,mean',\n",
       " '_i41': 'sum_=(1,3,2,2,2,11)',\n",
       " '_i42': 'def sum_(*args):\\n    res=0\\n    count=1\\n    for i in args:\\n        res+=i\\n        count+=1\\n    mean=res/(count-1)\\n    return res,mean',\n",
       " '_i43': 'sum_=(1,3,2,2,2,11)',\n",
       " '_i44': 'def sum_(*args):\\n    res=0\\n    count=1\\n    for i in args:\\n        res+=i\\n        count+=1\\n    mean=res/(count-1)\\n    return res,mean',\n",
       " '_i45': 'sum_=(1,3,2,2,2,11)',\n",
       " '_i46': 'def yyy(*)',\n",
       " '_i47': 'def yyy(**kwargs):\\n    print(kwargs)',\n",
       " 'yyy': <function __main__.yyy(**kwargs)>,\n",
       " '_i48': 'def yyy(**kwargs):\\n    print(kwargs)',\n",
       " '_i49': 'yyy(a=1,b=2,c=9)',\n",
       " '_i50': 'r=10000\\ndef rr():\\n    global r\\n    r+=100\\n    print(r)',\n",
       " 'r': 10100,\n",
       " 'rr': <function __main__.rr()>,\n",
       " '_i51': 'rr()',\n",
       " '_i52': 'globals()'}"
      ]
     },
     "execution_count": 52,
     "metadata": {},
     "output_type": "execute_result"
    }
   ],
   "source": [
    "globals()"
   ]
  },
  {
   "cell_type": "markdown",
   "metadata": {},
   "source": [
    "## 注意：\n",
    "- global ：在进行赋值操作的时候需要声明\n",
    "- 官方解释：This is because when you make an assignment to a variable in a scope, that variable becomes local to that scope and shadows any similarly named variable in the outer scope.\n",
    "- ![](../Photo/73.png)"
   ]
  },
  {
   "cell_type": "markdown",
   "metadata": {},
   "source": [
    "# 编写一个函数，传入字符串，统计大小写字母的个数，数字个数"
   ]
  },
  {
   "cell_type": "code",
   "execution_count": 5,
   "metadata": {},
   "outputs": [],
   "source": [
    "import random"
   ]
  },
  {
   "cell_type": "code",
   "execution_count": 6,
   "metadata": {},
   "outputs": [],
   "source": [
    "def tongji(*args):\n",
    "    shuzi=0\n",
    "    xiaoxie=0\n",
    "    daxie=0\n",
    "    for i in args:\n",
    "        ASCII=ord(i)\n",
    "        if 48<=ASCII<=57:\n",
    "            shuzi+=1\n",
    "        elif 97<=ASCII<=122:\n",
    "            xiaoxie+=1\n",
    "        elif 65<=ASCII<=90:\n",
    "            daxie+=1\n",
    "    return shuzi,xiaoxie,daxie\n"
   ]
  },
  {
   "cell_type": "markdown",
   "metadata": {},
   "source": [
    "# 编写一个函数，输入n为偶数，调用偶数求1/2+1/4+....+1/n,当输入n为奇数时，调用函数1/1+1/3+.....+1/n"
   ]
  },
  {
   "cell_type": "code",
   "execution_count": 13,
   "metadata": {},
   "outputs": [],
   "source": [
    "def sum(n):\n",
    "    res=0\n",
    "    if n%2==0:\n",
    "        for i in range(2,n+1,2):\n",
    "            res +=1/i\n",
    "    else:\n",
    "        for j in range(1,n+1,2):\n",
    "            res +=1/j\n",
    "    return res"
   ]
  },
  {
   "cell_type": "code",
   "execution_count": 14,
   "metadata": {},
   "outputs": [
    {
     "data": {
      "text/plain": [
       "0.75"
      ]
     },
     "execution_count": 14,
     "metadata": {},
     "output_type": "execute_result"
    }
   ],
   "source": [
    "sum(4)"
   ]
  },
  {
   "cell_type": "code",
   "execution_count": 15,
   "metadata": {},
   "outputs": [],
   "source": [
    "def A():\n",
    "    num = input('>>')\n",
    "    N=input('>>')\n",
    "    res=0\n",
    "    for i in range(1,int(N)+1):\n",
    "        print(num*i)\n",
    "        res+=int(num*i)\n",
    "    return res"
   ]
  },
  {
   "cell_type": "code",
   "execution_count": 16,
   "metadata": {},
   "outputs": [
    {
     "name": "stdout",
     "output_type": "stream",
     "text": [
      ">>3\n",
      ">>5\n",
      "3\n",
      "33\n",
      "333\n",
      "3333\n",
      "33333\n"
     ]
    },
    {
     "data": {
      "text/plain": [
       "37035"
      ]
     },
     "execution_count": 16,
     "metadata": {},
     "output_type": "execute_result"
    }
   ],
   "source": [
    "A()"
   ]
  },
  {
   "cell_type": "code",
   "execution_count": 22,
   "metadata": {},
   "outputs": [
    {
     "name": "stdout",
     "output_type": "stream",
     "text": [
      "24690\n"
     ]
    }
   ],
   "source": [
    "res=0\n",
    "for j in range(5):\n",
    "    for i in range(j+1):\n",
    "        res +=2*10**i\n",
    "print(res)"
   ]
  },
  {
   "cell_type": "markdown",
   "metadata": {},
   "source": [
    "# 1+2!+3!+.....+20!的和"
   ]
  },
  {
   "cell_type": "code",
   "execution_count": 24,
   "metadata": {},
   "outputs": [
    {
     "name": "stdout",
     "output_type": "stream",
     "text": [
      "1\n",
      "2\n",
      "6\n",
      "24\n",
      "120\n",
      "720\n",
      "5040\n",
      "40320\n",
      "362880\n",
      "3628800\n",
      "39916800\n",
      "479001600\n",
      "6227020800\n",
      "87178291200\n",
      "1307674368000\n",
      "20922789888000\n",
      "355687428096000\n",
      "6402373705728000\n",
      "121645100408832000\n",
      "2432902008176640000\n"
     ]
    }
   ],
   "source": [
    "res=0\n",
    "for i in range(1,21):\n",
    "    rres=1\n",
    "    for j in range(1,i+1):\n",
    "        rres*=j\n",
    "    print(rres)"
   ]
  },
  {
   "cell_type": "markdown",
   "metadata": {},
   "source": [
    "# 一球从100米高度自由下落，每次落地后反跳回原高度的一半，再下落，求他在第10次落地时，共经过多少米？第10次反弹多高？"
   ]
  },
  {
   "cell_type": "code",
   "execution_count": null,
   "metadata": {},
   "outputs": [],
   "source": []
  },
  {
   "cell_type": "markdown",
   "metadata": {},
   "source": [
    "# 作业：求方差"
   ]
  },
  {
   "cell_type": "code",
   "execution_count": null,
   "metadata": {},
   "outputs": [],
   "source": [
    "     "
   ]
  },
  {
   "cell_type": "markdown",
   "metadata": {},
   "source": [
    "# 作业：汉诺塔"
   ]
  },
  {
   "cell_type": "code",
   "execution_count": null,
   "metadata": {},
   "outputs": [],
   "source": []
  },
  {
   "cell_type": "markdown",
   "metadata": {},
   "source": [
    "# Homework\n",
    "- 1\n",
    "![](../Photo/74.png)"
   ]
  },
  {
   "cell_type": "code",
   "execution_count": 15,
   "metadata": {},
   "outputs": [],
   "source": [
    "def sy():\n",
    "    count=0\n",
    "    for n in range(1,101):\n",
    "        x=n*(3*n-1)/2\n",
    "        count+=1\n",
    "        print(x,end='   ')\n",
    "        if count%10==0:\n",
    "            print('')\n",
    "    "
   ]
  },
  {
   "cell_type": "code",
   "execution_count": 16,
   "metadata": {},
   "outputs": [
    {
     "name": "stdout",
     "output_type": "stream",
     "text": [
      "1.0   5.0   12.0   22.0   35.0   51.0   70.0   92.0   117.0   145.0   \n",
      "176.0   210.0   247.0   287.0   330.0   376.0   425.0   477.0   532.0   590.0   \n",
      "651.0   715.0   782.0   852.0   925.0   1001.0   1080.0   1162.0   1247.0   1335.0   \n",
      "1426.0   1520.0   1617.0   1717.0   1820.0   1926.0   2035.0   2147.0   2262.0   2380.0   \n",
      "2501.0   2625.0   2752.0   2882.0   3015.0   3151.0   3290.0   3432.0   3577.0   3725.0   \n",
      "3876.0   4030.0   4187.0   4347.0   4510.0   4676.0   4845.0   5017.0   5192.0   5370.0   \n",
      "5551.0   5735.0   5922.0   6112.0   6305.0   6501.0   6700.0   6902.0   7107.0   7315.0   \n",
      "7526.0   7740.0   7957.0   8177.0   8400.0   8626.0   8855.0   9087.0   9322.0   9560.0   \n",
      "9801.0   10045.0   10292.0   10542.0   10795.0   11051.0   11310.0   11572.0   11837.0   12105.0   \n",
      "12376.0   12650.0   12927.0   13207.0   13490.0   13776.0   14065.0   14357.0   14652.0   14950.0   \n"
     ]
    }
   ],
   "source": [
    "sy()"
   ]
  },
  {
   "cell_type": "markdown",
   "metadata": {},
   "source": [
    "- 2 \n",
    "![](../Photo/75.png)"
   ]
  },
  {
   "cell_type": "code",
   "execution_count": 19,
   "metadata": {},
   "outputs": [],
   "source": [
    "def sy1():\n",
    "    x=eval(input('输入数字'))\n",
    "    y=0\n",
    "    for i in str(x):\n",
    "        y=y+int(i)\n",
    "    print(y)"
   ]
  },
  {
   "cell_type": "code",
   "execution_count": 20,
   "metadata": {},
   "outputs": [
    {
     "name": "stdout",
     "output_type": "stream",
     "text": [
      "输入数字234\n",
      "9\n"
     ]
    }
   ],
   "source": [
    "sy1()"
   ]
  },
  {
   "cell_type": "markdown",
   "metadata": {},
   "source": [
    "- 3\n",
    "![](../Photo/76.png)"
   ]
  },
  {
   "cell_type": "code",
   "execution_count": 26,
   "metadata": {},
   "outputs": [],
   "source": [
    "def syy():\n",
    "    a,b,c=eval(input('输入数字:'))\n",
    "    if a>b>c:\n",
    "        print(c,b,a)\n",
    "    elif a>c>b:\n",
    "        print(b,c,a)\n",
    "    elif b>a>c:\n",
    "        print(c,a,b)\n",
    "    elif b>c>a:\n",
    "        print(a,c,b)\n",
    "    elif c>a>b:\n",
    "        print(b,a,c)\n",
    "    elif c>b>a:\n",
    "        print(a,b,c)\n"
   ]
  },
  {
   "cell_type": "code",
   "execution_count": 27,
   "metadata": {},
   "outputs": [
    {
     "name": "stdout",
     "output_type": "stream",
     "text": [
      "输入数字:9,67,1\n",
      "1 9 67\n"
     ]
    }
   ],
   "source": [
    "syy()"
   ]
  },
  {
   "cell_type": "markdown",
   "metadata": {},
   "source": [
    "- 4\n",
    "![](../Photo/77.png)"
   ]
  },
  {
   "cell_type": "code",
   "execution_count": null,
   "metadata": {},
   "outputs": [],
   "source": [
    "def future(money,lilv,year):\n",
    "    money=eval(input('输入投资金额:'))\n",
    "    year=eval(input('输入年份:'))\n",
    "    "
   ]
  },
  {
   "cell_type": "markdown",
   "metadata": {},
   "source": [
    "- 5\n",
    "![](../Photo/78.png)"
   ]
  },
  {
   "cell_type": "code",
   "execution_count": 28,
   "metadata": {},
   "outputs": [],
   "source": [
    "def su(ch1,ch2,numberPerLine):\n",
    "    i=0\n",
    "    for j in range(ch1,ch2):\n",
    "        print(chr(j),end=' ')\n",
    "        i=i+1\n",
    "        if i%10==0:\n",
    "            print('')\n"
   ]
  },
  {
   "cell_type": "code",
   "execution_count": 29,
   "metadata": {},
   "outputs": [
    {
     "name": "stdout",
     "output_type": "stream",
     "text": [
      "- . / 0 1 2 3 4 5 6 \n",
      "7 8 9 : ; < = > ? @ \n",
      "A B C D E F G H I J \n",
      "K L M N O P Q R S T \n",
      "U V W X Y Z [ \\ ] ^ \n",
      "_ ` "
     ]
    }
   ],
   "source": [
    "su(45,97,10)"
   ]
  },
  {
   "cell_type": "markdown",
   "metadata": {},
   "source": [
    "- 6\n",
    "![](../Photo/79.png)"
   ]
  },
  {
   "cell_type": "code",
   "execution_count": 30,
   "metadata": {},
   "outputs": [],
   "source": [
    "def ssu():\n",
    "    for year in range(2010,2021):\n",
    "        if (year%100!=0) and (year%4==0) or (year%400==0):\n",
    "            print(year,'年',366,'天')\n",
    "        else:\n",
    "            print(year,'年',365,'天')"
   ]
  },
  {
   "cell_type": "code",
   "execution_count": 31,
   "metadata": {},
   "outputs": [
    {
     "name": "stdout",
     "output_type": "stream",
     "text": [
      "2010 年 365 天\n",
      "2011 年 365 天\n",
      "2012 年 366 天\n",
      "2013 年 365 天\n",
      "2014 年 365 天\n",
      "2015 年 365 天\n",
      "2016 年 366 天\n",
      "2017 年 365 天\n",
      "2018 年 365 天\n",
      "2019 年 365 天\n",
      "2020 年 366 天\n"
     ]
    }
   ],
   "source": [
    "ssu()"
   ]
  },
  {
   "cell_type": "markdown",
   "metadata": {},
   "source": [
    "- 7\n",
    "![](../Photo/80.png)"
   ]
  },
  {
   "cell_type": "code",
   "execution_count": 32,
   "metadata": {},
   "outputs": [],
   "source": [
    "def distance(x1,y1,x2,y2):\n",
    "    d=((x1-x2)**2+(y1-y2)**2)**(1/2)\n",
    "    print(d)"
   ]
  },
  {
   "cell_type": "code",
   "execution_count": 33,
   "metadata": {},
   "outputs": [
    {
     "name": "stdout",
     "output_type": "stream",
     "text": [
      "4.47213595499958\n"
     ]
    }
   ],
   "source": [
    "distance(2,5,6,3)"
   ]
  },
  {
   "cell_type": "markdown",
   "metadata": {},
   "source": [
    "- 8\n",
    "![](../Photo/81.png)"
   ]
  },
  {
   "cell_type": "code",
   "execution_count": 37,
   "metadata": {},
   "outputs": [],
   "source": [
    "def ms():\n",
    "    for i in range(2,31):\n",
    "        for j in range(2,i):\n",
    "            if i%j==0:\n",
    "                break\n",
    "        else:\n",
    "            m=2**i-1\n",
    "            print(i,m)"
   ]
  },
  {
   "cell_type": "code",
   "execution_count": 38,
   "metadata": {},
   "outputs": [
    {
     "name": "stdout",
     "output_type": "stream",
     "text": [
      "2 3\n",
      "3 7\n",
      "5 31\n",
      "7 127\n",
      "11 2047\n",
      "13 8191\n",
      "17 131071\n",
      "19 524287\n",
      "23 8388607\n",
      "29 536870911\n"
     ]
    }
   ],
   "source": [
    "ms()"
   ]
  },
  {
   "cell_type": "markdown",
   "metadata": {},
   "source": [
    "- 9\n",
    "![](../Photo/82.png)\n",
    "![](../Photo/83.png)"
   ]
  },
  {
   "cell_type": "code",
   "execution_count": null,
   "metadata": {},
   "outputs": [],
   "source": [
    "import time"
   ]
  },
  {
   "cell_type": "code",
   "execution_count": null,
   "metadata": {},
   "outputs": [],
   "source": [
    "time.time()"
   ]
  },
  {
   "cell_type": "markdown",
   "metadata": {},
   "source": [
    "- 10\n",
    "![](../Photo/84.png)"
   ]
  },
  {
   "cell_type": "code",
   "execution_count": 51,
   "metadata": {},
   "outputs": [],
   "source": [
    "import random"
   ]
  },
  {
   "cell_type": "code",
   "execution_count": 52,
   "metadata": {},
   "outputs": [],
   "source": [
    "def syyy():\n",
    "    x=random.randint(1,7)\n",
    "    y=random.randint(1,7)\n",
    "    z=x+y\n",
    "    print(z)\n",
    "    if z==2 or z==3 or z==12:\n",
    "        print('you lose')\n",
    "    elif z==7 or z==11:\n",
    "        print('you win')\n",
    "    else:"
   ]
  },
  {
   "cell_type": "markdown",
   "metadata": {},
   "source": [
    "- 11 \n",
    "### 去网上寻找如何用Python代码发送邮件"
   ]
  }
 ],
 "metadata": {
  "kernelspec": {
   "display_name": "Python 3",
   "language": "python",
   "name": "python3"
  },
  "language_info": {
   "codemirror_mode": {
    "name": "ipython",
    "version": 3
   },
   "file_extension": ".py",
   "mimetype": "text/x-python",
   "name": "python",
   "nbconvert_exporter": "python",
   "pygments_lexer": "ipython3",
   "version": "3.7.3"
  }
 },
 "nbformat": 4,
 "nbformat_minor": 2
}
