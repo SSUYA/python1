{
 "cells": [
  {
   "cell_type": "markdown",
   "metadata": {},
   "source": [
    "# 选择\n",
    "## 布尔类型、数值和表达式\n",
    "![](../Photo/33.png)\n",
    "- 注意：比较运算符的相等是两个等号，一个等到代表赋值\n",
    "- 在Python中可以用整型0来代表False，其他数字来代表True\n",
    "- 后面还会讲到 is 在判断语句中的用发"
   ]
  },
  {
   "cell_type": "markdown",
   "metadata": {},
   "source": [
    "## 字符串的比较使用ASCII值"
   ]
  },
  {
   "cell_type": "markdown",
   "metadata": {},
   "source": [
    "## Markdown \n",
    "- https://github.com/younghz/Markdown"
   ]
  },
  {
   "cell_type": "markdown",
   "metadata": {},
   "source": [
    "## EP:\n",
    "- <img src=\"../Photo/34.png\"></img>\n",
    "- 输入一个数字，判断其实奇数还是偶数"
   ]
  },
  {
   "cell_type": "code",
   "execution_count": 8,
   "metadata": {},
   "outputs": [
    {
     "name": "stdout",
     "output_type": "stream",
     "text": [
      "i!=3\n"
     ]
    }
   ],
   "source": [
    "i=1\n",
    "if i==3:\n",
    "    print('i=3')\n",
    "else:\n",
    "    print('i!=3')"
   ]
  },
  {
   "cell_type": "code",
   "execution_count": 11,
   "metadata": {},
   "outputs": [
    {
     "name": "stdout",
     "output_type": "stream",
     "text": [
      "输入一个数4316543\n",
      "奇数\n"
     ]
    }
   ],
   "source": [
    "i=eval(input('输入一个数'))\n",
    "if i%2==0:\n",
    "    print('偶数')\n",
    "else:\n",
    "    print('奇数')"
   ]
  },
  {
   "cell_type": "code",
   "execution_count": 1,
   "metadata": {},
   "outputs": [
    {
     "data": {
      "text/plain": [
       "True"
      ]
     },
     "execution_count": 1,
     "metadata": {},
     "output_type": "execute_result"
    }
   ],
   "source": [
    "bool(4)"
   ]
  },
  {
   "cell_type": "code",
   "execution_count": 12,
   "metadata": {},
   "outputs": [
    {
     "name": "stdout",
     "output_type": "stream",
     "text": [
      "x:[*]87654\n",
      "偶数\n"
     ]
    }
   ],
   "source": [
    "x=eval(input('x:[*]'))\n",
    "if bool(x%2):\n",
    "    print('奇数')\n",
    "else:\n",
    "    print('偶数')"
   ]
  },
  {
   "cell_type": "code",
   "execution_count": null,
   "metadata": {},
   "outputs": [],
   "source": []
  },
  {
   "cell_type": "markdown",
   "metadata": {},
   "source": [
    "## 产生随机数字\n",
    "- 函数random.randint(a,b) 可以用来产生一个a和b之间且包括a和b的随机整数"
   ]
  },
  {
   "cell_type": "code",
   "execution_count": 24,
   "metadata": {},
   "outputs": [],
   "source": [
    "import random"
   ]
  },
  {
   "cell_type": "code",
   "execution_count": 14,
   "metadata": {},
   "outputs": [
    {
     "data": {
      "text/plain": [
       "2"
      ]
     },
     "execution_count": 14,
     "metadata": {},
     "output_type": "execute_result"
    }
   ],
   "source": [
    "random.randint(2,3)"
   ]
  },
  {
   "cell_type": "markdown",
   "metadata": {},
   "source": [
    "产生一个随机数，你去输入，如果你输入的数大于随机数，那么就告诉你太大了，反之，太小了，\n",
    "然后你一直输入，知道它满意为止"
   ]
  },
  {
   "cell_type": "code",
   "execution_count": 30,
   "metadata": {},
   "outputs": [],
   "source": [
    "a=random.randint(5,18)"
   ]
  },
  {
   "cell_type": "code",
   "execution_count": 32,
   "metadata": {},
   "outputs": [
    {
     "name": "stdout",
     "output_type": "stream",
     "text": [
      "输入一个数12\n",
      "太大了\n",
      "输入一个数2\n",
      "太小了\n",
      "输入一个数8\n",
      "正确\n"
     ]
    }
   ],
   "source": [
    "import random\n",
    "while 1:\n",
    "    x = eval(input('输入一个数'))\n",
    "    if x>a:\n",
    "        print('太大了')\n",
    "    if x<a:\n",
    "        print('太小了')  \n",
    "    if x==a:\n",
    "        print('正确')\n",
    "        break"
   ]
  },
  {
   "cell_type": "markdown",
   "metadata": {},
   "source": [
    "##  其他random方法\n",
    "- random.random 返回0.0到1.0之间前闭后开区间的随机浮点\n",
    "- random.randrange(a,b) 前闭后开"
   ]
  },
  {
   "cell_type": "markdown",
   "metadata": {},
   "source": [
    "## EP：\n",
    "- 产生两个随机整数number1和number2，然后显示给用户，使用户输入数字的和，并判定其是否正确\n",
    "- 进阶:写一个随机序号点名程序"
   ]
  },
  {
   "cell_type": "code",
   "execution_count": 38,
   "metadata": {},
   "outputs": [
    {
     "name": "stdout",
     "output_type": "stream",
     "text": [
      "输入数字的和10\n",
      "太大了\n",
      "输入数字的和4\n",
      "太小了\n",
      "输入数字的和6\n",
      "太小了\n",
      "输入数字的和8\n",
      "正确\n"
     ]
    }
   ],
   "source": [
    "import random\n",
    "num1=random.randint(1,5)\n",
    "num2=random.randint(1,5)\n",
    "num3=num1+num2\n",
    "number=0\n",
    "while number<5:\n",
    "    x=eval(input('输入数字的和'))\n",
    "    if x>a:\n",
    "        print('太大了')\n",
    "    if x<a:\n",
    "        print('太小了')  \n",
    "    if x==a:\n",
    "        print('正确')\n",
    "        break\n",
    "    number+=1"
   ]
  },
  {
   "cell_type": "code",
   "execution_count": 41,
   "metadata": {},
   "outputs": [
    {
     "name": "stdout",
     "output_type": "stream",
     "text": [
      "输入数字的和7\n",
      "错误\n",
      "输入数字的和6\n",
      "错误\n",
      "输入数字的和8\n",
      "错误\n",
      "输入数字的和5\n",
      "正确\n"
     ]
    }
   ],
   "source": [
    "import random\n",
    "num1=random.randint(1,5)\n",
    "num2=random.randint(1,5)\n",
    "num3=num1+num2\n",
    "number=0\n",
    "for i in range(5):\n",
    "    x=eval(input('输入数字的和'))\n",
    "    if x==(num1+num2):\n",
    "        print('正确')\n",
    "        break\n",
    "    else:\n",
    "        print('错误')"
   ]
  },
  {
   "cell_type": "code",
   "execution_count": 44,
   "metadata": {},
   "outputs": [
    {
     "name": "stdout",
     "output_type": "stream",
     "text": [
      "输入一个数字40\n",
      "2 可以整除\n",
      "4 可以整除\n",
      "5 可以整除\n",
      "8 可以整除\n",
      "10 可以整除\n",
      "20 可以整除\n",
      "40 可以整除\n"
     ]
    }
   ],
   "source": [
    "x=eval(input('输入一个数字'))\n",
    "for i in range(2,100):\n",
    "    if x%i==0:\n",
    "        print(i,'可以整除')\n",
    "    "
   ]
  },
  {
   "cell_type": "markdown",
   "metadata": {},
   "source": [
    "## if语句\n",
    "- 如果条件正确就执行一个单向if语句，亦即当条件为真的时候才执行if内部的语句\n",
    "- Python有很多选择语句:\n",
    "> - 单向if \n",
    "  - 双向if-else\n",
    "  - 嵌套if\n",
    "  - 多向if-elif-else\n",
    "  \n",
    "- 注意：当语句含有子语句的时候，那么一定至少要有一个缩进，也就是说如果有儿子存在，那么一定要缩进\n",
    "- 切记不可tab键和space混用，单用tab 或者 space\n",
    "- 当你输出的结果是无论if是否为真时都需要显示时，语句应该与if对齐"
   ]
  },
  {
   "cell_type": "code",
   "execution_count": 45,
   "metadata": {},
   "outputs": [
    {
     "name": "stdout",
     "output_type": "stream",
     "text": [
      "输入一个数65\n",
      "奇数\n",
      "运行完毕\n"
     ]
    }
   ],
   "source": [
    "i=eval(input('输入一个数'))\n",
    "if i%2==0:\n",
    "    print('偶数')\n",
    "else:\n",
    "    print('奇数')\n",
    "print('运行完毕')"
   ]
  },
  {
   "cell_type": "markdown",
   "metadata": {},
   "source": [
    "## EP：\n",
    "- 用户输入一个数字，判断其实奇数还是偶数\n",
    "- 进阶：可以查看下4.5实例研究猜生日"
   ]
  },
  {
   "cell_type": "markdown",
   "metadata": {},
   "source": [
    "## 双向if-else 语句\n",
    "- 如果条件为真，那么走if内部语句，否则走else内部语句"
   ]
  },
  {
   "cell_type": "code",
   "execution_count": 52,
   "metadata": {},
   "outputs": [
    {
     "ename": "IndentationError",
     "evalue": "unindent does not match any outer indentation level (<tokenize>, line 13)",
     "output_type": "error",
     "traceback": [
      "\u001b[1;36m  File \u001b[1;32m\"<tokenize>\"\u001b[1;36m, line \u001b[1;32m13\u001b[0m\n\u001b[1;33m    else:\u001b[0m\n\u001b[1;37m    ^\u001b[0m\n\u001b[1;31mIndentationError\u001b[0m\u001b[1;31m:\u001b[0m unindent does not match any outer indentation level\n"
     ]
    }
   ],
   "source": [
    "x=input(\"有钱吗\")\n",
    "y=\"有钱\"\n",
    "z=\"帅\"\n",
    "s=\"没有\"\n",
    " if x==y:  #字符串可以直接比较，不需要定义变量\n",
    "    a=input(\"帅不帅\")\n",
    "    if a==z:\n",
    "        print('有没有老婆 ')\n",
    "            if b==s:\n",
    "                print(\"见面吧\")\n",
    "            else：\n",
    "                print(\"滚\")\n",
    "        else:\n",
    "            print(\"请等待\")\n",
    "    else:\n",
    "        print(\"再见\")\n"
   ]
  },
  {
   "cell_type": "markdown",
   "metadata": {},
   "source": [
    "## EP：\n",
    "- 产生两个随机整数number1和number2，然后显示给用户，使用户输入数字，并判定其是否正确,如果正确打印“you‘re correct”，否则打印正确错误"
   ]
  },
  {
   "cell_type": "markdown",
   "metadata": {},
   "source": [
    "## 嵌套if 和多向if-elif-else\n",
    "![](../Photo/35.png)"
   ]
  },
  {
   "cell_type": "code",
   "execution_count": null,
   "metadata": {},
   "outputs": [],
   "source": [
    "a=eval(input('有没有钱啊'))\n",
    "if a==\"有\":\n",
    "    grad=\"帅不帅啊\"\n",
    "elif:\n",
    "    if a\n"
   ]
  },
  {
   "cell_type": "markdown",
   "metadata": {},
   "source": [
    "## EP：\n",
    "- 提示用户输入一个年份，然后显示表示这一年的动物\n",
    "![](../Photo/36.png)\n",
    "- 计算身体质量指数的程序\n",
    "- BMI = 以千克为单位的体重除以以米为单位的身高的平方\n",
    "![](../Photo/37.png)"
   ]
  },
  {
   "cell_type": "code",
   "execution_count": 53,
   "metadata": {},
   "outputs": [
    {
     "name": "stdout",
     "output_type": "stream",
     "text": [
      "输入一个年份1999\n",
      "兔\n"
     ]
    }
   ],
   "source": [
    "a=eval(input('输入一个年份'))\n",
    "if a%12==0:\n",
    "    print('猴')\n",
    "if a%12==1:\n",
    "    print('鸡')\n",
    "if a%12==2:\n",
    "    print('狗')\n",
    "if a%12==3:\n",
    "    print('猪')\n",
    "if a%12==4:\n",
    "    print('鼠')\n",
    "if a%12==5:\n",
    "    print('牛')\n",
    "if a%12==6:\n",
    "    print('虎')\n",
    "if a%12==7:\n",
    "    print('兔')\n",
    "if a%12==8:\n",
    "    print('龙')\n",
    "if a%12==9:\n",
    "    print('蛇')\n",
    "if a%12==10:\n",
    "    print('马')\n",
    "if a%12==11:\n",
    "    print('羊')"
   ]
  },
  {
   "cell_type": "code",
   "execution_count": 55,
   "metadata": {},
   "outputs": [
    {
     "name": "stdout",
     "output_type": "stream",
     "text": [
      "输入体重60\n",
      "输入身高1.67\n",
      "标准\n"
     ]
    }
   ],
   "source": [
    "a=eval(input('输入体重'))\n",
    "b=eval(input('输入身高'))\n",
    "BMI=a/(b**2)\n",
    "if BMI<18.5:\n",
    "    grade='超轻'\n",
    "elif BMI<25.0:\n",
    "    grade='标准'\n",
    "elif BMI<30:\n",
    "    grade='超重'\n",
    "elif BMI>=30:\n",
    "    grade='痴肥'\n",
    "print(grade)"
   ]
  },
  {
   "cell_type": "markdown",
   "metadata": {},
   "source": [
    "## 逻辑运算符\n",
    "![](../Photo/38.png)"
   ]
  },
  {
   "cell_type": "markdown",
   "metadata": {},
   "source": [
    "![](../Photo/39.png)\n",
    "![](../Photo/40.png)"
   ]
  },
  {
   "cell_type": "markdown",
   "metadata": {},
   "source": [
    "## EP：\n",
    "- 判定闰年：一个年份如果能被4整除但不能被100整除，或者能被400整除，那么这个年份就是闰年\n",
    "- 提示用户输入一个年份，并返回是否是闰年\n",
    "- 提示用户输入一个数字，判断其是否为水仙花数"
   ]
  },
  {
   "cell_type": "code",
   "execution_count": 62,
   "metadata": {},
   "outputs": [
    {
     "name": "stdout",
     "output_type": "stream",
     "text": [
      "请输入年份2000\n",
      "闰年\n"
     ]
    }
   ],
   "source": [
    "a=eval(input('请输入年份'))\n",
    "if (a%4==0) and (a%100!=0):\n",
    "    print('闰年')\n",
    "if a%400==0:\n",
    "    print('闰年')\n",
    "else:\n",
    "    print('平年')"
   ]
  },
  {
   "cell_type": "code",
   "execution_count": 67,
   "metadata": {},
   "outputs": [
    {
     "name": "stdout",
     "output_type": "stream",
     "text": [
      "请输入一个数字153\n",
      "水仙花数\n"
     ]
    }
   ],
   "source": [
    "x=eval(input('请输入一个数字'))\n",
    "B=x//100\n",
    "S=x//10\n",
    "S1=S%10\n",
    "G=x%10\n",
    "if B**3+S1**3+G**3==x:\n",
    "    print('水仙花数')\n",
    "else:\n",
    "    print('不是')"
   ]
  },
  {
   "cell_type": "code",
   "execution_count": 73,
   "metadata": {},
   "outputs": [
    {
     "name": "stdout",
     "output_type": "stream",
     "text": [
      "153\n"
     ]
    }
   ],
   "source": [
    "if x in range(100,1000):\n",
    "    B=x//100\n",
    "    S=x//10\n",
    "    S1=S%10\n",
    "    G=x%10\n",
    "    if B**3+S1**3+G**3==x:\n",
    "        print(x)"
   ]
  },
  {
   "cell_type": "markdown",
   "metadata": {},
   "source": [
    "## 实例研究：彩票\n",
    "![](../Photo/41.png)"
   ]
  },
  {
   "cell_type": "markdown",
   "metadata": {},
   "source": [
    "# Homework\n",
    "- 1\n",
    "![](../Photo/42.png)"
   ]
  },
  {
   "cell_type": "code",
   "execution_count": 9,
   "metadata": {},
   "outputs": [],
   "source": [
    "import math"
   ]
  },
  {
   "cell_type": "code",
   "execution_count": 10,
   "metadata": {},
   "outputs": [
    {
     "name": "stdout",
     "output_type": "stream",
     "text": [
      "输入系数a1\n",
      "输入系数b2\n",
      "输入系数c3\n",
      "The equation has no real roots\n"
     ]
    }
   ],
   "source": [
    "a=eval(input('输入系数a'))\n",
    "b=eval(input('输入系数b'))\n",
    "c=eval(input('输入系数c'))\n",
    "if b**2-4*a*c==0:\n",
    "    r1=(-b+((b**2-4*a*c)**0.5))/(2*a)\n",
    "    r2=r1\n",
    "    print(r1)\n",
    "if b**2-4*a*c>0:\n",
    "    r1=(-b+((b**2-4*a*c)**0.5))/(2*a)\n",
    "    r2=(-b+((b**2+4*a*c)**0.5))/(2*a)\n",
    "    print(r1,r2)\n",
    "if b**2-4*a*c<0:\n",
    "    print('The equation has no real roots')\n",
    "    "
   ]
  },
  {
   "cell_type": "markdown",
   "metadata": {},
   "source": [
    "- 2\n",
    "![](../Photo/43.png)"
   ]
  },
  {
   "cell_type": "code",
   "execution_count": 15,
   "metadata": {},
   "outputs": [],
   "source": [
    "import random"
   ]
  },
  {
   "cell_type": "code",
   "execution_count": 16,
   "metadata": {},
   "outputs": [
    {
     "name": "stdout",
     "output_type": "stream",
     "text": [
      "输入一个数67\n",
      "结果为假\n"
     ]
    }
   ],
   "source": [
    "num1=random.randint(1,100)\n",
    "num2=random.randint(1,100)\n",
    "a=eval(input('输入一个数'))\n",
    "if a==(num1+num2):\n",
    "    print('结果为真')\n",
    "else:\n",
    "    print('结果为假')\n"
   ]
  },
  {
   "cell_type": "markdown",
   "metadata": {},
   "source": [
    "- 3\n",
    "![](../Photo/44.png)"
   ]
  },
  {
   "cell_type": "code",
   "execution_count": 3,
   "metadata": {},
   "outputs": [
    {
     "name": "stdout",
     "output_type": "stream",
     "text": [
      "输入0-6的任意一个数字0\n",
      "未来的第几天31\n",
      "31 天后是星期 3\n"
     ]
    }
   ],
   "source": [
    "today=eval(input('输入0-6的任意一个数字'))\n",
    "later=eval(input('未来的第几天'))\n",
    "if today==0:\n",
    "    x=(today+later)%7\n",
    "    print(later,'天后是星期',x)\n",
    "if today==1:\n",
    "    x=(today+later)%7\n",
    "    print(later,'天后是星期',x)\n",
    "if today==2:\n",
    "    x=(today+later)%7\n",
    "    print(later,'天后是星期',x)\n",
    "if today==3:\n",
    "    x=(today+later)%7\n",
    "    print(later,'天后是星期',x)\n",
    "if today==4:\n",
    "    x=(today+later)%7\n",
    "    print(later,'天后是星期',x)\n",
    "if today==5:\n",
    "    x=(today+later)%7\n",
    "    print(later,'天后是星期',x)\n",
    "if today==6:\n",
    "    x=(today+later)%7\n",
    "    print(later,'天后是星期',x)"
   ]
  },
  {
   "cell_type": "markdown",
   "metadata": {},
   "source": [
    "- 4\n",
    "![](../Photo/45.png)"
   ]
  },
  {
   "cell_type": "code",
   "execution_count": 5,
   "metadata": {},
   "outputs": [
    {
     "name": "stdout",
     "output_type": "stream",
     "text": [
      "输入第一个整数78\n",
      "输入第二个整数56\n",
      "输入第三个整数567\n",
      "56 78 567\n"
     ]
    }
   ],
   "source": [
    "a=eval(input('输入第一个整数'))\n",
    "b=eval(input('输入第二个整数'))\n",
    "c=eval(input('输入第三个整数'))\n",
    "if a<b<c:\n",
    "    print(a,b,c)\n",
    "if a<c<b:\n",
    "    print(a,c,b)\n",
    "if c<b<a:\n",
    "    print(c,b,a)\n",
    "if c<a<b:\n",
    "    print(c,a,b)\n",
    "if b<a<c:\n",
    "    print(b,a,c)\n",
    "if b<c<a:\n",
    "    print(b,c,a)"
   ]
  },
  {
   "cell_type": "markdown",
   "metadata": {},
   "source": [
    "- 5\n",
    "![](../Photo/46.png)"
   ]
  },
  {
   "cell_type": "code",
   "execution_count": 7,
   "metadata": {},
   "outputs": [
    {
     "name": "stdout",
     "output_type": "stream",
     "text": [
      "输入第一种大米包装的重量和价钱50,24.59\n",
      "输入第二种大米包装的重量和价钱25,11.99\n",
      "第二种包装好\n"
     ]
    }
   ],
   "source": [
    "x1,y1=eval(input('输入第一种大米包装的重量和价钱'))\n",
    "x2,y2=eval(input('输入第二种大米包装的重量和价钱'))\n",
    "if (y1/x1)<(y2/x2):\n",
    "    print('第一种包装好')\n",
    "elif (y1/x1)>(y2/x2):\n",
    "    print('第二种包装好')"
   ]
  },
  {
   "cell_type": "markdown",
   "metadata": {},
   "source": [
    "- 6\n",
    "![](../Photo/47.png)"
   ]
  },
  {
   "cell_type": "code",
   "execution_count": 59,
   "metadata": {},
   "outputs": [
    {
     "name": "stdout",
     "output_type": "stream",
     "text": [
      "请输入年:2005\n",
      "请输入月:12\n",
      "2005 年 12 月份 有31天\n"
     ]
    }
   ],
   "source": [
    "year=eval(input(\"请输入年:\"))\n",
    "month=eval(input(\"请输入月:\"))\n",
    "if (year%100!=0) and (year%4==0) or (year%400==0):\n",
    "    if month==2:\n",
    "        print(year,\"年\",month,\"月份\",\"有29天\")\n",
    "    elif month==1:\n",
    "        print(year,\"年\",month,\"月份\",\"有31天\") \n",
    "    elif month==3:\n",
    "        print(year,\"年\",month,\"月份\",\"有31天\") \n",
    "    elif month==4:\n",
    "        print(year,\"年\",month,\"月份\",\"有30天\") \n",
    "    elif month==5:\n",
    "        print(year,\"年\",month,\"月份\",\"有31天\") \n",
    "    elif month==6:\n",
    "        print(year,\"年\",month,\"月份\",\"有30天\") \n",
    "    elif month==7:\n",
    "        print(year,\"年\",month,\"月份\",\"有31天\") \n",
    "    elif month==8:\n",
    "        print(year,\"年\",month,\"月份\",\"有31天\") \n",
    "    elif month==9:\n",
    "        print(year,\"年\",month,\"月份\",\"有30天\") \n",
    "    elif month==10:\n",
    "        print(year,\"年\",month,\"月份\",\"有31天\") \n",
    "    elif month==11:\n",
    "        print(year,\"年\",month,\"月份\",\"有30天\") \n",
    "    elif month==12:\n",
    "        print(year,\"年\",month,\"月份\",\"有31天\") \n",
    "else:\n",
    "    if month==2:\n",
    "        print(year,\"年\",month,\"月份\",\"有28天\")\n",
    "    elif month==1:\n",
    "        print(year,\"年\",month,\"月份\",\"有31天\") \n",
    "    elif month==3:\n",
    "        print(year,\"年\",month,\"月份\",\"有31天\") \n",
    "    elif month==4:\n",
    "        print(year,\"年\",month,\"月份\",\"有30天\") \n",
    "    elif month==5:\n",
    "        print(year,\"年\",month,\"月份\",\"有31天\") \n",
    "    elif month==6:\n",
    "        print(year,\"年\",month,\"月份\",\"有30天\") \n",
    "    elif month==7:\n",
    "        print(year,\"年\",month,\"月份\",\"有31天\") \n",
    "    elif month==8:\n",
    "        print(year,\"年\",month,\"月份\",\"有31天\") \n",
    "    elif month==9:\n",
    "        print(year,\"年\",month,\"月份\",\"有30天\") \n",
    "    elif month==10:\n",
    "        print(year,\"年\",month,\"月份\",\"有31天\") \n",
    "    elif month==11:\n",
    "        print(year,\"年\",month,\"月份\",\"有30天\") \n",
    "    elif month==12:\n",
    "        print(year,\"年\",month,\"月份\",\"有31天\") "
   ]
  },
  {
   "cell_type": "markdown",
   "metadata": {},
   "source": [
    "- 7\n",
    "![](../Photo/48.png)"
   ]
  },
  {
   "cell_type": "code",
   "execution_count": 11,
   "metadata": {},
   "outputs": [],
   "source": [
    "import random"
   ]
  },
  {
   "cell_type": "code",
   "execution_count": 12,
   "metadata": {},
   "outputs": [
    {
     "name": "stdout",
     "output_type": "stream",
     "text": [
      "输入一个猜测值，1为正面，0为反面：1\n",
      "错误\n"
     ]
    }
   ],
   "source": [
    "x=random.randint(0,1)\n",
    "y=eval(input('输入一个猜测值，1为正面，0为反面：'))\n",
    "if x==y:\n",
    "    print('正确')\n",
    "elif x!=y:\n",
    "    print('错误')"
   ]
  },
  {
   "cell_type": "markdown",
   "metadata": {},
   "source": [
    "- 8\n",
    "![](../Photo/49.png)"
   ]
  },
  {
   "cell_type": "code",
   "execution_count": 15,
   "metadata": {},
   "outputs": [],
   "source": [
    "import random"
   ]
  },
  {
   "cell_type": "code",
   "execution_count": 16,
   "metadata": {},
   "outputs": [
    {
     "name": "stdout",
     "output_type": "stream",
     "text": [
      "输入一个猜测值，2为布，1为石头，0为剪刀：1\n",
      "你输了\n"
     ]
    }
   ],
   "source": [
    "x=random.randint(0,2)\n",
    "y=eval(input('输入一个猜测值，2为布，1为石头，0为剪刀：'))\n",
    "if x==y:\n",
    "    print('平局')\n",
    "elif x>y:\n",
    "    print('你输了')\n",
    "elif x<y:\n",
    "    print('你赢了')"
   ]
  },
  {
   "cell_type": "markdown",
   "metadata": {},
   "source": [
    "- 9\n",
    "![](../Photo/50.png)"
   ]
  },
  {
   "cell_type": "code",
   "execution_count": null,
   "metadata": {},
   "outputs": [],
   "source": [
    "year=eval(input('输入年份'))\n",
    "month=eval(iniput('输入月份'))\n",
    "day=eval(input('输入一个月的某一天'))\n",
    "j=year/100\n",
    "k=year%100\n"
   ]
  },
  {
   "cell_type": "markdown",
   "metadata": {},
   "source": [
    "- 10\n",
    "![](../Photo/51.png)"
   ]
  },
  {
   "cell_type": "code",
   "execution_count": 33,
   "metadata": {},
   "outputs": [
    {
     "name": "stdout",
     "output_type": "stream",
     "text": [
      "梅花 2\n"
     ]
    }
   ],
   "source": [
    "import random\n",
    "a=random.randint(1,13)\n",
    "b=random.randint(14,17)\n",
    "if a==1:\n",
    "    a=\"A\"\n",
    "if a==11:\n",
    "    a=\"J\"\n",
    "if a==12:\n",
    "    a=\"Q\"\n",
    "if a==13:\n",
    "    a=\"K\"\n",
    "elif b==14:\n",
    "    b=\"方块\"\n",
    "elif b==15:\n",
    "    b=\"黑桃\"\n",
    "elif b==16:\n",
    "    b=\"梅花\"\n",
    "elif b==17:\n",
    "    b=\"红桃\"\n",
    "print(b,a)"
   ]
  },
  {
   "cell_type": "code",
   "execution_count": null,
   "metadata": {},
   "outputs": [],
   "source": []
  },
  {
   "cell_type": "markdown",
   "metadata": {},
   "source": [
    "- 11\n",
    "![](../Photo/52.png)"
   ]
  },
  {
   "cell_type": "code",
   "execution_count": null,
   "metadata": {},
   "outputs": [],
   "source": []
  },
  {
   "cell_type": "code",
   "execution_count": 18,
   "metadata": {},
   "outputs": [],
   "source": []
  },
  {
   "cell_type": "code",
   "execution_count": 20,
   "metadata": {},
   "outputs": [
    {
     "name": "stdout",
     "output_type": "stream",
     "text": [
      "输入一个三位数121\n",
      "121 是回文数\n"
     ]
    }
   ],
   "source": [
    "x=eval(input('输入一个三位数'))\n",
    "B=x//100\n",
    "G=x%10\n",
    "if B==G:\n",
    "    print(x,'是回文数')\n",
    "else:\n",
    "    print(x,'不是回文数')"
   ]
  },
  {
   "cell_type": "markdown",
   "metadata": {},
   "source": [
    "- 12\n",
    "![](../Photo/53.png)"
   ]
  },
  {
   "cell_type": "code",
   "execution_count": 42,
   "metadata": {},
   "outputs": [
    {
     "name": "stdout",
     "output_type": "stream",
     "text": [
      "输入一个边1\n",
      "输入一个边1\n",
      "输入一个边1\n",
      "周长为: 3\n"
     ]
    }
   ],
   "source": [
    "a=eval(input('输入一个边'))\n",
    "b=eval(input('输入一个边'))\n",
    "c=eval(input('输入一个边'))\n",
    "zc=a+b+c\n",
    "if (a+b>c) and (a-b<c) and (a+c>b) and (a-c<b) and (b+c>a) and (b-c<a):\n",
    "    print('周长为:',zc)\n",
    "else:\n",
    "    print('输入是非法的')"
   ]
  },
  {
   "cell_type": "code",
   "execution_count": null,
   "metadata": {},
   "outputs": [],
   "source": []
  },
  {
   "cell_type": "code",
   "execution_count": null,
   "metadata": {},
   "outputs": [],
   "source": []
  }
 ],
 "metadata": {
  "kernelspec": {
   "display_name": "Python 3",
   "language": "python",
   "name": "python3"
  },
  "language_info": {
   "codemirror_mode": {
    "name": "ipython",
    "version": 3
   },
   "file_extension": ".py",
   "mimetype": "text/x-python",
   "name": "python",
   "nbconvert_exporter": "python",
   "pygments_lexer": "ipython3",
   "version": "3.7.3"
  }
 },
 "nbformat": 4,
 "nbformat_minor": 2
}
